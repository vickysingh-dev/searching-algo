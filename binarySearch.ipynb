{
 "cells": [
  {
   "cell_type": "code",
   "execution_count": 2,
   "id": "538219f4",
   "metadata": {},
   "outputs": [],
   "source": [
    "#Binary Search: Searching algorithm, used to search for an element in sorted array by repeatedly dividing the search interval in half. "
   ]
  },
  {
   "cell_type": "code",
   "execution_count": 3,
   "id": "fba5aa62",
   "metadata": {},
   "outputs": [],
   "source": [
    "array = [10, 20, 30, 40, 50, 60, 70, 80, 90] # be a sorted array"
   ]
  },
  {
   "cell_type": "code",
   "execution_count": 4,
   "id": "e915f055",
   "metadata": {},
   "outputs": [],
   "source": [
    "x = 70"
   ]
  },
  {
   "cell_type": "code",
   "execution_count": 5,
   "id": "4f7c7ec3",
   "metadata": {},
   "outputs": [],
   "source": [
    "# iterative method\n",
    "def binarySearch(x, array):\n",
    "    low = 0\n",
    "    high = len(array) - 1\n",
    "    while high - low > 1:\n",
    "        if (array[low] == x):\n",
    "            print(\"Element found at\", low)\n",
    "            return\n",
    "        elif (array[high] == x):\n",
    "            print(\"Element found at\", high)\n",
    "            return\n",
    "        mid = (high + low) // 2\n",
    "        if (array[mid] < x):\n",
    "            low = mid\n",
    "        else:\n",
    "            high = mid\n",
    "    else:\n",
    "        print(\"Element not found\")"
   ]
  },
  {
   "cell_type": "code",
   "execution_count": 6,
   "id": "3c2896cc",
   "metadata": {},
   "outputs": [
    {
     "name": "stdout",
     "output_type": "stream",
     "text": [
      "Element found at 4\n"
     ]
    }
   ],
   "source": [
    "binarySearch(50, array)"
   ]
  },
  {
   "cell_type": "code",
   "execution_count": 10,
   "id": "46b57c6c",
   "metadata": {},
   "outputs": [],
   "source": [
    "# recursive approach\n",
    "def rec_binarySearch(array, x, l = 0, r = len(array)-1):\n",
    "    \n",
    "    if (l <= r):\n",
    "        mid = l + (r-l) // 2\n",
    "        if (array[mid] == x):\n",
    "            return mid\n",
    "        elif (array[mid] < x):\n",
    "            return rec_binarySearch(array, x, mid + 1, r)\n",
    "        else:\n",
    "            return rec_binarySearch(array, x, l, mid - 1)\n",
    "    else:\n",
    "        return -1\n",
    "    \n"
   ]
  },
  {
   "cell_type": "code",
   "execution_count": 12,
   "id": "3e916fe2",
   "metadata": {},
   "outputs": [
    {
     "name": "stdout",
     "output_type": "stream",
     "text": [
      "Element found at 0\n"
     ]
    }
   ],
   "source": [
    "result = rec_binarySearch(array, 10)\n",
    "if (result == -1):\n",
    "    print(\"Element not found!\")\n",
    "else:\n",
    "    print(\"Element found at\", result)\n",
    "# print('running')"
   ]
  },
  {
   "cell_type": "code",
   "execution_count": null,
   "id": "331142e2",
   "metadata": {},
   "outputs": [],
   "source": []
  },
  {
   "cell_type": "code",
   "execution_count": null,
   "id": "0db75dc0",
   "metadata": {},
   "outputs": [],
   "source": []
  }
 ],
 "metadata": {
  "kernelspec": {
   "display_name": "Python 3 (ipykernel)",
   "language": "python",
   "name": "python3"
  },
  "language_info": {
   "codemirror_mode": {
    "name": "ipython",
    "version": 3
   },
   "file_extension": ".py",
   "mimetype": "text/x-python",
   "name": "python",
   "nbconvert_exporter": "python",
   "pygments_lexer": "ipython3",
   "version": "3.9.13"
  }
 },
 "nbformat": 4,
 "nbformat_minor": 5
}
