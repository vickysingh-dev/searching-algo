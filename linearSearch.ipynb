{
 "cells": [
  {
   "cell_type": "code",
   "execution_count": 1,
   "id": "e6a5d1cf",
   "metadata": {},
   "outputs": [],
   "source": [
    "array = [1,2,3,4,5,6,8,7,9,0]"
   ]
  },
  {
   "cell_type": "code",
   "execution_count": 13,
   "id": "2cb9f1de",
   "metadata": {},
   "outputs": [
    {
     "name": "stdout",
     "output_type": "stream",
     "text": [
      "10\n"
     ]
    }
   ],
   "source": [
    "x = 11\n",
    "print(len(array))"
   ]
  },
  {
   "cell_type": "code",
   "execution_count": 7,
   "id": "ae6172db",
   "metadata": {},
   "outputs": [],
   "source": [
    "def linearSearch(x, array):\n",
    "    for i in range(len(array)):\n",
    "        if array[i] == x:\n",
    "            print(\"Element found at index\", i)\n",
    "            return\n",
    "    print(\"Element not found!\")"
   ]
  },
  {
   "cell_type": "code",
   "execution_count": 8,
   "id": "30b6ecae",
   "metadata": {},
   "outputs": [
    {
     "name": "stdout",
     "output_type": "stream",
     "text": [
      "Element found at index 7\n"
     ]
    }
   ],
   "source": [
    "linearSearch(x, array)"
   ]
  },
  {
   "cell_type": "code",
   "execution_count": 11,
   "id": "eb6ad094",
   "metadata": {},
   "outputs": [],
   "source": [
    "def recur_linearSearch(x, array, size):\n",
    "    if (size == 0):\n",
    "        return -1\n",
    "    elif (array[size - 1] == x):\n",
    "        return size - 1\n",
    "    else:\n",
    "        return recur_linearSearch(x, array, size - 1)"
   ]
  },
  {
   "cell_type": "code",
   "execution_count": 14,
   "id": "265e0544",
   "metadata": {},
   "outputs": [
    {
     "name": "stdout",
     "output_type": "stream",
     "text": [
      "Element not found!\n"
     ]
    }
   ],
   "source": [
    "result = recur_linearSearch(x, array, len(array))\n",
    "if (result != -1):\n",
    "    print(\"The element found at index\", result)\n",
    "else:\n",
    "    print(\"Element not found!\")"
   ]
  },
  {
   "cell_type": "code",
   "execution_count": null,
   "id": "f3e8c15b",
   "metadata": {},
   "outputs": [],
   "source": []
  }
 ],
 "metadata": {
  "kernelspec": {
   "display_name": "Python 3 (ipykernel)",
   "language": "python",
   "name": "python3"
  },
  "language_info": {
   "codemirror_mode": {
    "name": "ipython",
    "version": 3
   },
   "file_extension": ".py",
   "mimetype": "text/x-python",
   "name": "python",
   "nbconvert_exporter": "python",
   "pygments_lexer": "ipython3",
   "version": "3.9.13"
  }
 },
 "nbformat": 4,
 "nbformat_minor": 5
}
